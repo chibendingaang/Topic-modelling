{
 "cells": [
  {
   "cell_type": "code",
   "execution_count": 1,
   "metadata": {},
   "outputs": [
    {
     "name": "stderr",
     "output_type": "stream",
     "text": [
      "/Users/nisargq/Library/Python/3.9/lib/python/site-packages/urllib3/__init__.py:35: NotOpenSSLWarning: urllib3 v2 only supports OpenSSL 1.1.1+, currently the 'ssl' module is compiled with 'LibreSSL 2.8.3'. See: https://github.com/urllib3/urllib3/issues/3020\n",
      "  warnings.warn(\n"
     ]
    }
   ],
   "source": [
    "import requests\n",
    "from bs4 import BeautifulSoup\n",
    "from datetime import datetime, timedelta\n",
    "\n",
    "#we pick the URL for ArXiv's recent submissions page\n",
    "url = 'https://arxiv.org/list/phys/recent'\n",
    "response = requests.get(url)\n",
    "\n",
    "#parse the HTML content of the page using BeautifulSoup\n",
    "soup = BeautifulSoup(response.text, 'html.parser')\n",
    "\n",
    "# Find all the entries and filter them for the given date range\n",
    "paper_entries = soup.find_all('div', class_='list-title mathjax')\n",
    "\n",
    "current_date = datetime.now()\n",
    "print(current_date)\n",
    "one_week_ago = current_date - timedelta(days=7)\n",
    "print(one_week_ago)\n",
    "\n",
    "for entry in paper_entries:\n",
    "    submission_date_text = entry.find_next_sibling('div', class_='list-dateline').text.strip()\n",
    "    #bs4 method find_next_sibling to obtain document from next level of the search tree\n",
    "    submission_date = datetime.strptime(submission_date_text, '%a, %d %b %Y %H:%M:%S GMT')\n",
    "    \n",
    "    # Check if the paper was submitted in the last week\n",
    "    if submission_date >= one_week_ago:\n",
    "        # Get the title and the link to the paper\n",
    "        title = entry.find('a').text.strip()\n",
    "        paper_link = 'https://arxiv.org' + entry.find('a')['href']\n",
    "        \n",
    "        # Print the title and link to the paper\n",
    "        print(f'Title: {title}')\n",
    "        print(f'Link: {paper_link}')\n",
    "        print()\n"
   ]
  }
 ],
 "metadata": {
  "kernelspec": {
   "display_name": "Python 3",
   "language": "python",
   "name": "python3"
  },
  "language_info": {
   "codemirror_mode": {
    "name": "ipython",
    "version": 3
   },
   "file_extension": ".py",
   "mimetype": "text/x-python",
   "name": "python",
   "nbconvert_exporter": "python",
   "pygments_lexer": "ipython3",
   "version": "3.9.6"
  }
 },
 "nbformat": 4,
 "nbformat_minor": 2
}
